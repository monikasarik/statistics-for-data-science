{
 "cells": [
  {
   "cell_type": "code",
   "execution_count": 2,
   "id": "0d105ea8-3867-49d5-b9dc-227633b941c9",
   "metadata": {},
   "outputs": [],
   "source": [
    "import numpy as np\n",
    "import pandas as pd"
   ]
  },
  {
   "cell_type": "code",
   "execution_count": 3,
   "id": "6f5aea51-a050-483b-a485-f05fe5abc607",
   "metadata": {},
   "outputs": [],
   "source": [
    "dataset = pd.read_csv(\"tested.csv\")"
   ]
  },
  {
   "cell_type": "code",
   "execution_count": 4,
   "id": "81cffce0-fb72-4b9e-8036-f178aaa688ba",
   "metadata": {},
   "outputs": [
    {
     "data": {
      "text/html": [
       "<div>\n",
       "<style scoped>\n",
       "    .dataframe tbody tr th:only-of-type {\n",
       "        vertical-align: middle;\n",
       "    }\n",
       "\n",
       "    .dataframe tbody tr th {\n",
       "        vertical-align: top;\n",
       "    }\n",
       "\n",
       "    .dataframe thead th {\n",
       "        text-align: right;\n",
       "    }\n",
       "</style>\n",
       "<table border=\"1\" class=\"dataframe\">\n",
       "  <thead>\n",
       "    <tr style=\"text-align: right;\">\n",
       "      <th></th>\n",
       "      <th>PassengerId</th>\n",
       "      <th>Survived</th>\n",
       "      <th>Pclass</th>\n",
       "      <th>Name</th>\n",
       "      <th>Sex</th>\n",
       "      <th>Age</th>\n",
       "      <th>SibSp</th>\n",
       "      <th>Parch</th>\n",
       "      <th>Ticket</th>\n",
       "      <th>Fare</th>\n",
       "      <th>Cabin</th>\n",
       "      <th>Embarked</th>\n",
       "    </tr>\n",
       "  </thead>\n",
       "  <tbody>\n",
       "    <tr>\n",
       "      <th>0</th>\n",
       "      <td>892</td>\n",
       "      <td>0</td>\n",
       "      <td>3</td>\n",
       "      <td>Kelly, Mr. James</td>\n",
       "      <td>male</td>\n",
       "      <td>34.5</td>\n",
       "      <td>0</td>\n",
       "      <td>0</td>\n",
       "      <td>330911</td>\n",
       "      <td>7.8292</td>\n",
       "      <td>NaN</td>\n",
       "      <td>Q</td>\n",
       "    </tr>\n",
       "    <tr>\n",
       "      <th>1</th>\n",
       "      <td>893</td>\n",
       "      <td>1</td>\n",
       "      <td>3</td>\n",
       "      <td>Wilkes, Mrs. James (Ellen Needs)</td>\n",
       "      <td>female</td>\n",
       "      <td>47.0</td>\n",
       "      <td>1</td>\n",
       "      <td>0</td>\n",
       "      <td>363272</td>\n",
       "      <td>7.0000</td>\n",
       "      <td>NaN</td>\n",
       "      <td>S</td>\n",
       "    </tr>\n",
       "    <tr>\n",
       "      <th>2</th>\n",
       "      <td>894</td>\n",
       "      <td>0</td>\n",
       "      <td>2</td>\n",
       "      <td>Myles, Mr. Thomas Francis</td>\n",
       "      <td>male</td>\n",
       "      <td>62.0</td>\n",
       "      <td>0</td>\n",
       "      <td>0</td>\n",
       "      <td>240276</td>\n",
       "      <td>9.6875</td>\n",
       "      <td>NaN</td>\n",
       "      <td>Q</td>\n",
       "    </tr>\n",
       "    <tr>\n",
       "      <th>3</th>\n",
       "      <td>895</td>\n",
       "      <td>0</td>\n",
       "      <td>3</td>\n",
       "      <td>Wirz, Mr. Albert</td>\n",
       "      <td>male</td>\n",
       "      <td>27.0</td>\n",
       "      <td>0</td>\n",
       "      <td>0</td>\n",
       "      <td>315154</td>\n",
       "      <td>8.6625</td>\n",
       "      <td>NaN</td>\n",
       "      <td>S</td>\n",
       "    </tr>\n",
       "    <tr>\n",
       "      <th>4</th>\n",
       "      <td>896</td>\n",
       "      <td>1</td>\n",
       "      <td>3</td>\n",
       "      <td>Hirvonen, Mrs. Alexander (Helga E Lindqvist)</td>\n",
       "      <td>female</td>\n",
       "      <td>22.0</td>\n",
       "      <td>1</td>\n",
       "      <td>1</td>\n",
       "      <td>3101298</td>\n",
       "      <td>12.2875</td>\n",
       "      <td>NaN</td>\n",
       "      <td>S</td>\n",
       "    </tr>\n",
       "  </tbody>\n",
       "</table>\n",
       "</div>"
      ],
      "text/plain": [
       "   PassengerId  Survived  Pclass  \\\n",
       "0          892         0       3   \n",
       "1          893         1       3   \n",
       "2          894         0       2   \n",
       "3          895         0       3   \n",
       "4          896         1       3   \n",
       "\n",
       "                                           Name     Sex   Age  SibSp  Parch  \\\n",
       "0                              Kelly, Mr. James    male  34.5      0      0   \n",
       "1              Wilkes, Mrs. James (Ellen Needs)  female  47.0      1      0   \n",
       "2                     Myles, Mr. Thomas Francis    male  62.0      0      0   \n",
       "3                              Wirz, Mr. Albert    male  27.0      0      0   \n",
       "4  Hirvonen, Mrs. Alexander (Helga E Lindqvist)  female  22.0      1      1   \n",
       "\n",
       "    Ticket     Fare Cabin Embarked  \n",
       "0   330911   7.8292   NaN        Q  \n",
       "1   363272   7.0000   NaN        S  \n",
       "2   240276   9.6875   NaN        Q  \n",
       "3   315154   8.6625   NaN        S  \n",
       "4  3101298  12.2875   NaN        S  "
      ]
     },
     "execution_count": 4,
     "metadata": {},
     "output_type": "execute_result"
    }
   ],
   "source": [
    "dataset.head()"
   ]
  },
  {
   "cell_type": "code",
   "execution_count": 7,
   "id": "bd91d7e7-0f8f-4247-8c94-d5c05adfee10",
   "metadata": {},
   "outputs": [
    {
     "data": {
      "text/plain": [
       "PassengerId      0\n",
       "Survived         0\n",
       "Pclass           0\n",
       "Name             0\n",
       "Sex              0\n",
       "Age             86\n",
       "SibSp            0\n",
       "Parch            0\n",
       "Ticket           0\n",
       "Fare             1\n",
       "Cabin          327\n",
       "Embarked         0\n",
       "dtype: int64"
      ]
     },
     "execution_count": 7,
     "metadata": {},
     "output_type": "execute_result"
    }
   ],
   "source": [
    "dataset.isnull().sum()"
   ]
  },
  {
   "cell_type": "code",
   "execution_count": 11,
   "id": "c580aab9-29c8-4643-a7e5-a297435cc7dd",
   "metadata": {},
   "outputs": [],
   "source": [
    "dataset['Age'].fillna(dataset['Age'].mean(), inplace=True)"
   ]
  },
  {
   "cell_type": "code",
   "execution_count": 12,
   "id": "87610b49-706a-4d3f-8233-7fa37709256e",
   "metadata": {},
   "outputs": [
    {
     "data": {
      "text/plain": [
       "PassengerId      0\n",
       "Survived         0\n",
       "Pclass           0\n",
       "Name             0\n",
       "Sex              0\n",
       "Age              0\n",
       "SibSp            0\n",
       "Parch            0\n",
       "Ticket           0\n",
       "Fare             1\n",
       "Cabin          327\n",
       "Embarked         0\n",
       "dtype: int64"
      ]
     },
     "execution_count": 12,
     "metadata": {},
     "output_type": "execute_result"
    }
   ],
   "source": [
    "dataset.isnull().sum()"
   ]
  },
  {
   "cell_type": "code",
   "execution_count": 15,
   "id": "d1c006c0-0cd0-47a6-8fb2-7e98c60f8746",
   "metadata": {},
   "outputs": [
    {
     "name": "stdout",
     "output_type": "stream",
     "text": [
      "Index(['PassengerId', 'Survived', 'Pclass', 'Name', 'Sex', 'Age', 'SibSp',\n",
      "       'Parch', 'Ticket', 'Fare', 'Cabin', 'Embarked'],\n",
      "      dtype='object')\n"
     ]
    }
   ],
   "source": [
    "print(dataset.columns)"
   ]
  },
  {
   "cell_type": "markdown",
   "id": "cadfb014-5a8c-44fb-aa07-9d4980668993",
   "metadata": {},
   "source": [
    " Percentage Example\n",
    "💡 Objective: What percentage of passengers survived?"
   ]
  },
  {
   "cell_type": "code",
   "execution_count": 17,
   "id": "22b20e9e-db0e-402f-a2bf-f09700f0d459",
   "metadata": {},
   "outputs": [],
   "source": [
    "# Percentage Example\n",
    "# Objective: What percentage of passengers survived?"
   ]
  },
  {
   "cell_type": "code",
   "execution_count": 23,
   "id": "0f7a32ae-dd8d-4bb8-86df-4233d07530d1",
   "metadata": {},
   "outputs": [
    {
     "data": {
      "text/plain": [
       "418"
      ]
     },
     "execution_count": 23,
     "metadata": {},
     "output_type": "execute_result"
    }
   ],
   "source": [
    "# Total passengers\n",
    "total_passengers = dataset.shape[0]\n",
    "total_passengers"
   ]
  },
  {
   "cell_type": "code",
   "execution_count": 21,
   "id": "d89753b2-7294-4b1a-8913-6e89272b55cc",
   "metadata": {},
   "outputs": [
    {
     "data": {
      "text/plain": [
       "152"
      ]
     },
     "execution_count": 21,
     "metadata": {},
     "output_type": "execute_result"
    }
   ],
   "source": [
    "# Count of survivors (Survived == 1)\n",
    "survived_count = dataset['Survived'].sum()\n",
    "survived_count"
   ]
  },
  {
   "cell_type": "code",
   "execution_count": 22,
   "id": "3a255f69-70c2-4f50-bd8d-70531bb11455",
   "metadata": {},
   "outputs": [
    {
     "name": "stdout",
     "output_type": "stream",
     "text": [
      "🎯 Percentage of passengers who survived: 36.36%\n"
     ]
    }
   ],
   "source": [
    "\n",
    "# Percentage of survivors\n",
    "survival_percentage = (survived_count / total_passengers) * 100\n",
    "\n",
    "print(f\"🎯 Percentage of passengers who survived: {survival_percentage:.2f}%\")"
   ]
  },
  {
   "cell_type": "raw",
   "id": "92ace383-9b49-4551-8c5e-be8c2182178b",
   "metadata": {},
   "source": [
    "Percentiles Example\n",
    "💡 Objective: Calculate the 25th, 50th, and 75th percentiles of Age"
   ]
  },
  {
   "cell_type": "code",
   "execution_count": 24,
   "id": "2c6a95ac-2a3d-410b-aee0-b16a6909f616",
   "metadata": {},
   "outputs": [],
   "source": [
    "#Percentiles Example Objective: Calculate the 25th, 50th, and 75th percentiles of Age"
   ]
  },
  {
   "cell_type": "code",
   "execution_count": 25,
   "id": "70d4e271-8149-40df-bdaf-fc44c4c99d13",
   "metadata": {},
   "outputs": [
    {
     "data": {
      "text/plain": [
       "0      34.50000\n",
       "1      47.00000\n",
       "2      62.00000\n",
       "3      27.00000\n",
       "4      22.00000\n",
       "         ...   \n",
       "413    30.27259\n",
       "414    39.00000\n",
       "415    38.50000\n",
       "416    30.27259\n",
       "417    30.27259\n",
       "Name: Age, Length: 418, dtype: float64"
      ]
     },
     "execution_count": 25,
     "metadata": {},
     "output_type": "execute_result"
    }
   ],
   "source": [
    "# Remove NaN to avoid errors\n",
    "age_clean = dataset['Age'].dropna()\n",
    "age_clean"
   ]
  },
  {
   "cell_type": "code",
   "execution_count": 26,
   "id": "61b08f64-9ec6-41e4-8424-3755aef77556",
   "metadata": {},
   "outputs": [
    {
     "name": "stdout",
     "output_type": "stream",
     "text": [
      "📊 Age Percentiles:\n",
      "25th: 23.0\n",
      "50th (Median): 30.272590361445783\n",
      "75th: 35.75\n"
     ]
    }
   ],
   "source": [
    "# Calculate percentiles\n",
    "p25 = np.percentile(age_clean, 25)\n",
    "p50 = np.percentile(age_clean, 50)  # Median\n",
    "p75 = np.percentile(age_clean, 75)\n",
    "\n",
    "print(f\"📊 Age Percentiles:\\n25th: {p25}\\n50th (Median): {p50}\\n75th: {p75}\")"
   ]
  },
  {
   "cell_type": "raw",
   "id": "d04378d3-39da-41cb-b5a6-51b38037233e",
   "metadata": {},
   "source": [
    "Quartiles + IQR + Outlier Detection\n",
    "💡 Objective: Use quartiles of Fare to calculate IQR and detect outliers."
   ]
  },
  {
   "cell_type": "code",
   "execution_count": 27,
   "id": "04164747-e9a9-4691-8d11-4a0863ef1822",
   "metadata": {},
   "outputs": [],
   "source": [
    "#Quartiles + IQR + Outlier Detection\n",
    "#💡 Objective: Use quartiles of Fare to calculate IQR and detect outliers."
   ]
  },
  {
   "cell_type": "code",
   "execution_count": 28,
   "id": "18304fc6-3418-4159-ae58-d057554dd3b1",
   "metadata": {},
   "outputs": [
    {
     "data": {
      "text/plain": [
       "0        7.8292\n",
       "1        7.0000\n",
       "2        9.6875\n",
       "3        8.6625\n",
       "4       12.2875\n",
       "         ...   \n",
       "413      8.0500\n",
       "414    108.9000\n",
       "415      7.2500\n",
       "416      8.0500\n",
       "417     22.3583\n",
       "Name: Fare, Length: 417, dtype: float64"
      ]
     },
     "execution_count": 28,
     "metadata": {},
     "output_type": "execute_result"
    }
   ],
   "source": [
    "# Remove NaNs from Fare\n",
    "fare_clean = dataset['Fare'].dropna()\n",
    "fare_clean"
   ]
  },
  {
   "cell_type": "code",
   "execution_count": 29,
   "id": "db2f6974-3678-4409-8827-e4773ef0166c",
   "metadata": {},
   "outputs": [],
   "source": [
    "# Quartiles\n",
    "q1 = fare_clean.quantile(0.25)\n",
    "q2 = fare_clean.quantile(0.50)\n",
    "q3 = fare_clean.quantile(0.75)"
   ]
  },
  {
   "cell_type": "code",
   "execution_count": 30,
   "id": "205ae9b3-9459-47a1-933e-0bced2183234",
   "metadata": {},
   "outputs": [
    {
     "data": {
      "text/plain": [
       "23.6042"
      ]
     },
     "execution_count": 30,
     "metadata": {},
     "output_type": "execute_result"
    }
   ],
   "source": [
    "# IQR\n",
    "iqr = q3 - q1\n",
    "iqr"
   ]
  },
  {
   "cell_type": "code",
   "execution_count": 31,
   "id": "648b34c1-a21c-4485-8ee1-05559e14ccd6",
   "metadata": {},
   "outputs": [
    {
     "data": {
      "text/plain": [
       "66.9063"
      ]
     },
     "execution_count": 31,
     "metadata": {},
     "output_type": "execute_result"
    }
   ],
   "source": [
    "# Outlier bounds\n",
    "lower_bound = q1 - 1.5 * iqr\n",
    "lower_bound\n",
    "upper_bound = q3 + 1.5 * iqr\n",
    "upper_bound"
   ]
  },
  {
   "cell_type": "code",
   "execution_count": 32,
   "id": "fb8bdd09-4fa8-4732-9ed1-7ae0855b6cc8",
   "metadata": {},
   "outputs": [
    {
     "name": "stdout",
     "output_type": "stream",
     "text": [
      "📦 Fare Quartiles:\n",
      "Q1: 7.8958\n",
      "Q2 (Median): 14.4542\n",
      "Q3: 31.5\n",
      "📐 IQR: 23.6042\n",
      "🚨 Outlier Thresholds: < -27.5105 or > 66.9063\n",
      "🔍 Number of Fare Outliers: 55\n"
     ]
    }
   ],
   "source": [
    "# Detect outliers\n",
    "outliers = fare_clean[(fare_clean < lower_bound) | (fare_clean > upper_bound)]\n",
    "outliers\n",
    "\n",
    "print(f\"📦 Fare Quartiles:\\nQ1: {q1}\\nQ2 (Median): {q2}\\nQ3: {q3}\")\n",
    "print(f\"📐 IQR: {iqr}\")\n",
    "print(f\"🚨 Outlier Thresholds: < {lower_bound} or > {upper_bound}\")\n",
    "print(f\"🔍 Number of Fare Outliers: {outliers.count()}\")"
   ]
  },
  {
   "cell_type": "code",
   "execution_count": 33,
   "id": "3670a663-7f0e-4468-9784-0244eaac49e4",
   "metadata": {},
   "outputs": [
    {
     "data": {
      "image/png": "[encoded data removed]",
      "text/plain": [
       "<Figure size 720x288 with 1 Axes>"
      ]
     },
     "metadata": {
      "needs_background": "light"
     },
     "output_type": "display_data"
    }
   ],
   "source": [
    "import seaborn as sns\n",
    "import matplotlib.pyplot as plt\n",
    "\n",
    "# Drop NaNs for clean plot\n",
    "plt.figure(figsize=(10, 4))\n",
    "sns.boxplot(x=dataset['Fare'], color='lightblue')\n",
    "plt.title('Boxplot of Fare')\n",
    "plt.xlabel('Fare')\n",
    "plt.grid(True)\n",
    "plt.tight_layout()\n",
    "plt.show()"
   ]
  },
  {
   "cell_type": "code",
   "execution_count": 34,
   "id": "8bfcf5c0-7900-4179-aa67-045e6927ec88",
   "metadata": {},
   "outputs": [
    {
     "data": {
      "image/png": "[encoded data removed]",
      "text/plain": [
       "<Figure size 720x288 with 1 Axes>"
      ]
     },
     "metadata": {
      "needs_background": "light"
     },
     "output_type": "display_data"
    }
   ],
   "source": [
    "plt.figure(figsize=(10, 4))\n",
    "sns.boxplot(x=dataset['Age'].dropna(), color='salmon')\n",
    "plt.title('Boxplot of Age')\n",
    "plt.xlabel('Age')\n",
    "plt.grid(True)\n",
    "plt.tight_layout()\n",
    "plt.show()"
   ]
  },
  {
   "cell_type": "raw",
   "id": "8b1edcd6-3960-47a3-99b2-ddc2547aebca",
   "metadata": {},
   "source": [
    "2. Detect and Remove Outliers Using IQR (for Fare)"
   ]
  },
  {
   "cell_type": "code",
   "execution_count": 35,
   "id": "70acdde5-feb9-45f6-995e-95a4a0e9ab12",
   "metadata": {},
   "outputs": [
    {
     "name": "stdout",
     "output_type": "stream",
     "text": [
      "Original dataset size: 418\n",
      "Dataset size after removing Fare outliers: 362\n"
     ]
    }
   ],
   "source": [
    "# Remove NaNs for Fare\n",
    "fare_clean = dataset['Fare'].dropna()\n",
    "\n",
    "# Calculate IQR\n",
    "q1 = fare_clean.quantile(0.25)\n",
    "q3 = fare_clean.quantile(0.75)\n",
    "iqr = q3 - q1\n",
    "\n",
    "# Define outlier boundaries\n",
    "lower_bound = q1 - 1.5 * iqr\n",
    "upper_bound = q3 + 1.5 * iqr\n",
    "\n",
    "# Filter: Keep only non-outliers\n",
    "dataset_no_outliers = dataset[(dataset['Fare'] >= lower_bound) & (dataset['Fare'] <= upper_bound)]\n",
    "\n",
    "print(f\"Original dataset size: {dataset.shape[0]}\")\n",
    "print(f\"Dataset size after removing Fare outliers: {dataset_no_outliers.shape[0]}\")\n"
   ]
  },
  {
   "cell_type": "code",
   "execution_count": 36,
   "id": "381ff40f-113f-4dfc-9a6b-eb3e5bef39bf",
   "metadata": {},
   "outputs": [
    {
     "name": "stderr",
     "output_type": "stream",
     "text": [
      "C:\\Users\\SARIKA\\OneDrive\\New folder\\lib\\site-packages\\seaborn\\categorical.py:1296: UserWarning: 37.1% of the points cannot be placed; you may want to decrease the size of the markers or use stripplot.\n",
      "  warnings.warn(msg, UserWarning)\n"
     ]
    },
    {
     "data": {
      "image/png": "[encoded data removed]",
      "text/plain": [
       "<Figure size 720x144 with 1 Axes>"
      ]
     },
     "metadata": {
      "needs_background": "light"
     },
     "output_type": "display_data"
    }
   ],
   "source": [
    "# Swarmplot for Fare\n",
    "plt.figure(figsize=(10, 2))\n",
    "sns.swarmplot(x='Fare', data=dataset, color='purple', size=3)\n",
    "plt.title('Swarmplot of Fare (with outliers)')\n",
    "plt.tight_layout()\n",
    "plt.show()\n"
   ]
  },
  {
   "cell_type": "code",
   "execution_count": 37,
   "id": "b551adf4-afea-4fb2-b054-24c6f64039ea",
   "metadata": {},
   "outputs": [
    {
     "data": {
      "image/png": "[encoded data removed]",
      "text/plain": [
       "<Figure size 720x288 with 1 Axes>"
      ]
     },
     "metadata": {
      "needs_background": "light"
     },
     "output_type": "display_data"
    }
   ],
   "source": [
    "# Violinplot shows distribution + boxplot + KDE\n",
    "plt.figure(figsize=(10, 4))\n",
    "sns.violinplot(x='Fare', data=dataset, inner='box', color='lightgreen')\n",
    "plt.title('Violinplot of Fare')\n",
    "plt.tight_layout()\n",
    "plt.show()"
   ]
  },
  {
   "cell_type": "code",
   "execution_count": 38,
   "id": "43d33cf8-a2f6-44db-87ef-23dc31652133",
   "metadata": {},
   "outputs": [
    {
     "name": "stdout",
     "output_type": "stream",
     "text": [
      "Rows before removing outliers: 417\n",
      "Rows after removing outliers: 339\n"
     ]
    }
   ],
   "source": [
    "# Drop rows with NaN in Age or Fare first\n",
    "df = dataset[['Age', 'Fare']].dropna()\n",
    "\n",
    "# Age IQR\n",
    "q1_age = df['Age'].quantile(0.25)\n",
    "q3_age = df['Age'].quantile(0.75)\n",
    "iqr_age = q3_age - q1_age\n",
    "lower_age = q1_age - 1.5 * iqr_age\n",
    "upper_age = q3_age + 1.5 * iqr_age\n",
    "\n",
    "# Fare IQR\n",
    "q1_fare = df['Fare'].quantile(0.25)\n",
    "q3_fare = df['Fare'].quantile(0.75)\n",
    "iqr_fare = q3_fare - q1_fare\n",
    "lower_fare = q1_fare - 1.5 * iqr_fare\n",
    "upper_fare = q3_fare + 1.5 * iqr_fare\n",
    "\n",
    "# Remove outliers in both\n",
    "df_clean = df[(df['Age'] >= lower_age) & (df['Age'] <= upper_age) &\n",
    "              (df['Fare'] >= lower_fare) & (df['Fare'] <= upper_fare)]\n",
    "\n",
    "print(f\"Rows before removing outliers: {df.shape[0]}\")\n",
    "print(f\"Rows after removing outliers: {df_clean.shape[0]}\")\n"
   ]
  },
  {
   "cell_type": "code",
   "execution_count": null,
   "id": "42443d5f-1e6e-4ce9-aabb-580bc6335b97",
   "metadata": {},
   "outputs": [],
   "source": []
  }
 ],
 "metadata": {
  "kernelspec": {
   "display_name": "Python 3 (ipykernel)",
   "language": "python",
   "name": "python3"
  },
  "language_info": {
   "codemirror_mode": {
    "name": "ipython",
    "version": 3
   },
   "file_extension": ".py",
   "mimetype": "text/x-python",
   "name": "python",
   "nbconvert_exporter": "python",
   "pygments_lexer": "ipython3",
   "version": "3.9.7"
  }
 },
 "nbformat": 4,
 "nbformat_minor": 5
}
